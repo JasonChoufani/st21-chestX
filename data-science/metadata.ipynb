{
 "cells": [
  {
   "cell_type": "code",
   "execution_count": null,
   "metadata": {
    "id": "e0eNHzBENJlF"
   },
   "outputs": [],
   "source": [
    "import pandas as pd\n",
    "import matplotlib.pyplot as plt\n",
    "import seaborn as sns\n",
    "import numpy as np"
   ]
  },
  {
   "cell_type": "code",
   "execution_count": null,
   "metadata": {
    "id": "lHVUhrwYWdLk"
   },
   "outputs": [],
   "source": [
    "# import the metadata file and read the first five rows\n",
    "file_name = '../data/metadata.csv'\n",
    "df = pd.read_csv(file_name)\n",
    "df.head()"
   ]
  },
  {
   "cell_type": "code",
   "execution_count": null,
   "metadata": {
    "id": "9WpKmA-gGOMD"
   },
   "outputs": [],
   "source": [
    "# look for columns with null values\n",
    "df.isnull().sum()"
   ]
  },
  {
   "cell_type": "code",
   "execution_count": null,
   "metadata": {
    "id": "AU0t8lg0XGZm"
   },
   "outputs": [],
   "source": [
    "df.shape"
   ]
  },
  {
   "cell_type": "code",
   "execution_count": null,
   "metadata": {
    "id": "26t1ws_aXJXD"
   },
   "outputs": [],
   "source": [
    "df.info()"
   ]
  },
  {
   "cell_type": "markdown",
   "metadata": {
    "id": "IsS-IDP-XguD"
   },
   "source": [
    "# Clean and Visualize data\n"
   ]
  },
  {
   "cell_type": "code",
   "execution_count": null,
   "metadata": {
    "id": "ObGqIPUaXoRB"
   },
   "outputs": [],
   "source": [
    "# select the important columns\n",
    "cols = ['patientid', 'sex', 'age', 'finding', 'RT_PCR_positive', 'survival']\n",
    "df= df[cols]\n",
    "df.head()"
   ]
  },
  {
   "cell_type": "code",
   "execution_count": null,
   "metadata": {
    "id": "aVvA6MD9YCop"
   },
   "outputs": [],
   "source": [
    "df.info()"
   ]
  },
  {
   "cell_type": "code",
   "execution_count": null,
   "metadata": {
    "id": "Fd1mALq0Yz14"
   },
   "outputs": [],
   "source": [
    "# drop duplicates in patientid\n",
    "df.drop_duplicates(subset=['patientid'], inplace = True)\n",
    "df"
   ]
  },
  {
   "cell_type": "code",
   "execution_count": null,
   "metadata": {
    "id": "JzGij6SGiN3U"
   },
   "outputs": [],
   "source": [
    "# read the unique values in finding column\n",
    "df.finding.unique()"
   ]
  },
  {
   "cell_type": "code",
   "execution_count": null,
   "metadata": {
    "id": "yAGbAw52dqC8"
   },
   "outputs": [],
   "source": [
    "# read finding column and create a new column called finding_res\n",
    "# finding_res contians 1 for covid while 0 for others\n",
    "df.loc[df['finding'] == 'Pneumonia/Viral/COVID-19', 'finding_res'] = 1 \n",
    "df.loc[df['finding'] != 'Pneumonia/Viral/COVID-19', 'finding_res'] = 0 \n",
    "df"
   ]
  },
  {
   "cell_type": "code",
   "execution_count": null,
   "metadata": {
    "id": "ufQWRibD9dcw"
   },
   "outputs": [],
   "source": [
    "# reorder the columns\n",
    "df = df[['patientid', 'sex', 'age', 'finding', 'finding_res', 'RT_PCR_positive', 'survival']]\n",
    "df.head()"
   ]
  },
  {
   "cell_type": "code",
   "execution_count": null,
   "metadata": {
    "id": "sMiicNgbDiPY"
   },
   "outputs": [],
   "source": [
    "df.info()"
   ]
  },
  {
   "cell_type": "code",
   "execution_count": null,
   "metadata": {
    "id": "ZD-PlxRnD741"
   },
   "outputs": [],
   "source": [
    "# fill the NaN values in survival column with Unknown\n",
    "df[\"survival\"].fillna(\"Unknown\", inplace=True)\n",
    "df"
   ]
  },
  {
   "cell_type": "code",
   "execution_count": null,
   "metadata": {
    "id": "5R--_WE8sNx7"
   },
   "outputs": [],
   "source": [
    "# fill the NaN values in RT_PCR_positive with Unknown\n",
    "df[\"RT_PCR_positive\"].fillna(\"Unknown\", inplace=True)\n",
    "df.head()"
   ]
  },
  {
   "cell_type": "code",
   "execution_count": null,
   "metadata": {
    "id": "_a5gGXDqlQ0l"
   },
   "outputs": [],
   "source": [
    "df.isnull().sum()"
   ]
  },
  {
   "cell_type": "code",
   "execution_count": null,
   "metadata": {
    "id": "7NbYWbRflwQ6"
   },
   "outputs": [],
   "source": [
    "# make a copy of the dataframe\n",
    "copy = df.copy()\n",
    "# drop all nan values and plot the distriution of the age\n",
    "copy.dropna(subset=['age'], inplace=True)\n",
    "sns.distplot(copy.age, bins=15)"
   ]
  },
  {
   "cell_type": "code",
   "execution_count": null,
   "metadata": {
    "id": "upa261mEhuN_"
   },
   "outputs": [],
   "source": [
    "copy = df.copy()\n",
    "# fill NaN values in age column with mean value\n",
    "copy.age.fillna(copy[\"age\"].mean(), inplace = True)\n",
    "#create a subplot with 2 figures to see how the age distribution changed\n",
    "fig, ax = plt.subplots(1, 2, figsize=(15, 5))\n",
    "#first the age distribution without nan values and second the nan values replaced with mean value\n",
    "sns.distplot(df.dropna().age, bins=15, ax=ax[0])\n",
    "sns.distplot(copy.age, bins=15, ax=ax[1])"
   ]
  },
  {
   "cell_type": "code",
   "execution_count": null,
   "metadata": {
    "id": "JTjoZcNZkcjO"
   },
   "outputs": [],
   "source": [
    "# create a function and generate random numbers between (mean - std) and (mean + std) for the NaN values\n",
    "def age_generator(data):\n",
    "    age_avg = data['age'].mean()\n",
    "    age_std = data['age'].std()\n",
    "    age_null_count = data['age'].isnull().sum()\n",
    "    age_null_random_list = np.random.randint(\n",
    "        age_avg - age_std, age_avg + age_std, size=age_null_count)\n",
    "    data['age'][np.isnan(data['age'])] = age_null_random_list\n",
    "    return df"
   ]
  },
  {
   "cell_type": "code",
   "execution_count": null,
   "metadata": {
    "id": "llTo836zk_-_"
   },
   "outputs": [],
   "source": [
    "# again create a copy of our dataframe and apply the age_generator function to it\n",
    "copy = df.copy()\n",
    "copy = age_generator(copy)\n",
    "# plot again the distribution of the age\n",
    "fig, ax = plt.subplots(1, 2, figsize=(15, 5))\n",
    "sns.distplot(df.dropna().age, bins=15, ax=ax[0])\n",
    "sns.distplot(copy.age, bins=15, ax=ax[1])"
   ]
  },
  {
   "cell_type": "code",
   "execution_count": null,
   "metadata": {
    "id": "W3mTnnLvkadF"
   },
   "outputs": [],
   "source": [
    "# apply the generated random age to df dataframe\n",
    "df = age_generator(df)\n",
    "\n",
    "# the age column should be clean now\n",
    "df.isnull().sum()"
   ]
  },
  {
   "cell_type": "code",
   "execution_count": null,
   "metadata": {
    "id": "e1ZTAg6NeXHx"
   },
   "outputs": [],
   "source": [
    "# plot of survival column and age column\n",
    "sns.boxplot(x='survival', y='age', data=df)"
   ]
  },
  {
   "cell_type": "markdown",
   "metadata": {
    "id": "2cENsn1mShEo"
   },
   "source": [
    "The range of the non-survival(N) shows to be high. But this doesn't give a good insight into the covid-19 finding/survival."
   ]
  },
  {
   "cell_type": "code",
   "execution_count": null,
   "metadata": {
    "id": "XWl6D6B2kp4b"
   },
   "outputs": [],
   "source": [
    "# plot of age column and finding (where finding = covid)\n",
    "age = df['age']\n",
    "finding_cov = df['finding'] == 'Pneumonia/Viral/COVID-19'\n",
    "sns.boxplot(x=finding_cov, y=age)\n"
   ]
  },
  {
   "cell_type": "code",
   "execution_count": null,
   "metadata": {
    "id": "duFQIeKQluEq"
   },
   "outputs": [],
   "source": [
    "#filtering df to plot first for covid-19 and then for others\n",
    "sns.distplot(df.loc[df.finding_res == 1, 'age'], color='red', label='covid-19')\n",
    "sns.distplot(df.loc[df.finding_res == 0, 'age'], color='blue', label='others')\n",
    "plt.legend()"
   ]
  },
  {
   "cell_type": "markdown",
   "metadata": {
    "id": "QxqRjru7nU9c"
   },
   "source": [
    "Both seem to have a close peak. However, finding on covid shows to be high in older age. "
   ]
  },
  {
   "cell_type": "code",
   "execution_count": null,
   "metadata": {
    "id": "PzjzJzts5NfW"
   },
   "outputs": [],
   "source": [
    "# plot of finding_res against age with surivival column set to hue\n",
    "sns.barplot(x='finding_res', y='age', data=df, hue='survival')\n",
    "plt.legend(bbox_to_anchor=(1.02, 1), loc='upper left', borderaxespad=0)"
   ]
  },
  {
   "cell_type": "markdown",
   "metadata": {
    "id": "ooBRalApoxhw"
   },
   "source": [
    "shows the non-survival(N) on both covid and other is more in older age. while younger age show to survive more"
   ]
  },
  {
   "cell_type": "code",
   "execution_count": null,
   "metadata": {
    "id": "2w-g7mXYLM_K"
   },
   "outputs": [],
   "source": [
    "# plot of RT_PCR_positive against finding_res with surivival column set to hue\n",
    "sns.barplot(x='RT_PCR_positive', y='finding_res', data=df, hue='survival')\n",
    "plt.legend(bbox_to_anchor=(1.02, 1), loc='upper left', borderaxespad=0)"
   ]
  },
  {
   "cell_type": "markdown",
   "metadata": {
    "id": "3soeRr8AOtlg"
   },
   "source": [
    "This shows a similar pattern as the above plot. However, the unclear RT_PCR_positive shows to be siginficant which can be a result of no finding, unclear covid rest or other factors. "
   ]
  },
  {
   "cell_type": "code",
   "execution_count": null,
   "metadata": {
    "id": "9ckUKbgIV-2i"
   },
   "outputs": [],
   "source": [
    "# drop the sex column\n",
    "df.drop(columns=['sex'], inplace=True)\n",
    "df.isnull().sum()"
   ]
  },
  {
   "cell_type": "markdown",
   "metadata": {
    "id": "xWmJw4OeRlft"
   },
   "source": [
    "### REMARK: \n",
    "Analysis of the dataset doesn't show one will have higher chance of surviving covid by use of x-ray (as expected given it is just an equipement in use). However, given the repeated need for a covid test, its fastness and detailed orientation makes it a good option of use. Also, considering its sustainability and the inconvience caused by swab testing makes it valid for use."
   ]
  }
 ],
 "metadata": {
  "colab": {
   "collapsed_sections": [],
   "name": "metadata",
   "provenance": []
  },
  "kernelspec": {
   "display_name": "Python 3",
   "language": "python",
   "name": "python3"
  },
  "language_info": {
   "codemirror_mode": {
    "name": "ipython",
    "version": 3
   },
   "file_extension": ".py",
   "mimetype": "text/x-python",
   "name": "python",
   "nbconvert_exporter": "python",
   "pygments_lexer": "ipython3",
   "version": "3.7.6"
  }
 },
 "nbformat": 4,
 "nbformat_minor": 4
}
