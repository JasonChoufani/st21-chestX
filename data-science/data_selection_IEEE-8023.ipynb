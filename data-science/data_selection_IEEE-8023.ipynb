{
 "metadata": {
  "language_info": {
   "codemirror_mode": {
    "name": "ipython",
    "version": 3
   },
   "file_extension": ".py",
   "mimetype": "text/x-python",
   "name": "python",
   "nbconvert_exporter": "python",
   "pygments_lexer": "ipython3",
   "version": "3.7.6"
  },
  "orig_nbformat": 2,
  "kernelspec": {
   "name": "python376jvsc74a57bd088b190508439fc978c7325eac78f7323b56c85dfc1d176ae6fe0b89dd9bad32e",
   "display_name": "Python 3.7.6 64-bit ('base': conda)"
  }
 },
 "nbformat": 4,
 "nbformat_minor": 2,
 "cells": [
  {
   "cell_type": "code",
   "execution_count": 1,
   "metadata": {},
   "outputs": [],
   "source": [
    "import pandas as pd\n",
    "import math"
   ]
  },
  {
   "source": [
    "## 1. Creating img_type_selection function"
   ],
   "cell_type": "markdown",
   "metadata": {}
  },
  {
   "source": [
    "### INFO\n",
    "This notebook contains snippets of code to prepare the actual data_selection.py Python script. <br>\n",
    "Please refer to this notbook for research only, and use the final Python script for data pre-processing of the IEEE-8023 data set."
   ],
   "cell_type": "markdown",
   "metadata": {}
  },
  {
   "cell_type": "code",
   "execution_count": 2,
   "metadata": {},
   "outputs": [],
   "source": [
    "df = pd.read_csv('../data/metadata.csv')"
   ]
  },
  {
   "cell_type": "code",
   "execution_count": 3,
   "metadata": {},
   "outputs": [
    {
     "output_type": "execute_result",
     "data": {
      "text/plain": [
       "169"
      ]
     },
     "metadata": {},
     "execution_count": 3
    }
   ],
   "source": [
    "selected_samples = df['view'].value_counts()['PA'] + df['view'].value_counts()['AP'] + df['view'].value_counts()['AP Supine']\n",
    "rejected_samples = df['view'].value_counts().sum() - selected_samples\n",
    "rejected_samples"
   ]
  },
  {
   "cell_type": "code",
   "execution_count": 4,
   "metadata": {},
   "outputs": [
    {
     "output_type": "execute_result",
     "data": {
      "text/plain": [
       "array(['X-ray', 'CT'], dtype=object)"
      ]
     },
     "metadata": {},
     "execution_count": 4
    }
   ],
   "source": [
    "df['modality'].unique()"
   ]
  },
  {
   "cell_type": "code",
   "execution_count": 5,
   "metadata": {},
   "outputs": [],
   "source": [
    "df_PA = df.loc[(df['view']==\"PA\")|(df['view']==\"AP Supine\")|(df['view']==\"AP\")]"
   ]
  },
  {
   "cell_type": "code",
   "execution_count": 6,
   "metadata": {},
   "outputs": [
    {
     "output_type": "execute_result",
     "data": {
      "text/plain": [
       "True"
      ]
     },
     "metadata": {},
     "execution_count": 6
    }
   ],
   "source": [
    "df_PA.shape[0] == selected_samples"
   ]
  },
  {
   "cell_type": "code",
   "execution_count": 7,
   "metadata": {},
   "outputs": [
    {
     "output_type": "execute_result",
     "data": {
      "text/plain": [
       "(781, 30)"
      ]
     },
     "metadata": {},
     "execution_count": 7
    }
   ],
   "source": [
    "df_PA.loc[(df_PA['modality']=='X-ray')].shape"
   ]
  },
  {
   "cell_type": "code",
   "execution_count": 8,
   "metadata": {},
   "outputs": [
    {
     "output_type": "execute_result",
     "data": {
      "text/plain": [
       "array(['X-ray'], dtype=object)"
      ]
     },
     "metadata": {},
     "execution_count": 8
    }
   ],
   "source": [
    "df_PA['modality'].unique()"
   ]
  },
  {
   "source": [
    "### INFO\n",
    "Selected images from \"PA\" & \"AP\" & \"AP Supine\" view are all X-ray images. <br>\n",
    "No further selection by \"modality\" needed. :)"
   ],
   "cell_type": "markdown",
   "metadata": {}
  },
  {
   "source": [
    "## 2. Creating split_data_for_training function"
   ],
   "cell_type": "markdown",
   "metadata": {}
  },
  {
   "cell_type": "code",
   "execution_count": 9,
   "metadata": {},
   "outputs": [
    {
     "output_type": "execute_result",
     "data": {
      "text/plain": [
       "array(['Pneumonia/Viral/COVID-19', 'Pneumonia', 'Pneumonia/Viral/SARS',\n",
       "       'Pneumonia/Fungal/Pneumocystis',\n",
       "       'Pneumonia/Bacterial/Streptococcus', 'No Finding',\n",
       "       'Pneumonia/Bacterial/Chlamydophila', 'Pneumonia/Bacterial/E.Coli',\n",
       "       'Pneumonia/Bacterial/Klebsiella', 'Pneumonia/Bacterial/Legionella',\n",
       "       'Unknown', 'Pneumonia/Lipoid', 'Pneumonia/Viral/Varicella',\n",
       "       'Pneumonia/Bacterial', 'Pneumonia/Bacterial/Mycoplasma',\n",
       "       'Pneumonia/Viral/Influenza', 'todo', 'Tuberculosis',\n",
       "       'Pneumonia/Viral/Influenza/H1N1', 'Pneumonia/Fungal/Aspergillosis',\n",
       "       'Pneumonia/Viral/Herpes ', 'Pneumonia/Aspiration',\n",
       "       'Pneumonia/Bacterial/Nocardia', 'Pneumonia/Viral/MERS-CoV',\n",
       "       'Pneumonia/Bacterial/Staphylococcus/MRSA'], dtype=object)"
      ]
     },
     "metadata": {},
     "execution_count": 9
    }
   ],
   "source": [
    "df['finding'].unique() # 'Pneumonia/Viral/COVID-19'"
   ]
  },
  {
   "cell_type": "code",
   "execution_count": 10,
   "metadata": {},
   "outputs": [
    {
     "output_type": "execute_result",
     "data": {
      "text/plain": [
       "(584, 366)"
      ]
     },
     "metadata": {},
     "execution_count": 10
    }
   ],
   "source": [
    "covid = df['finding'].value_counts()['Pneumonia/Viral/COVID-19']\n",
    "no_covid = df['finding'].value_counts().sum() - covid\n",
    "covid, no_covid"
   ]
  },
  {
   "cell_type": "code",
   "execution_count": 11,
   "metadata": {},
   "outputs": [],
   "source": [
    "df_covid = df[df['finding']=='Pneumonia/Viral/COVID-19']\n",
    "df_nocovid = df[df['finding']!='Pneumonia/Viral/COVID-19']"
   ]
  },
  {
   "cell_type": "code",
   "execution_count": 12,
   "metadata": {},
   "outputs": [],
   "source": [
    "test = 30 # test data in percentage\n",
    "train = 70 # train data in percentage\n",
    "covid_samples = df_covid.sample(min(covid, no_covid))\n",
    "nocovid_samples = df_nocovid.sample(min(covid, no_covid))"
   ]
  },
  {
   "cell_type": "code",
   "execution_count": 13,
   "metadata": {},
   "outputs": [],
   "source": [
    "n_samples = math.ceil((len(covid_samples.index)/100)*test)\n",
    "m_samples = math.floor((len(covid_samples.index)/100)*train)"
   ]
  },
  {
   "cell_type": "code",
   "execution_count": 14,
   "metadata": {},
   "outputs": [
    {
     "output_type": "execute_result",
     "data": {
      "text/plain": [
       "(256, 110)"
      ]
     },
     "metadata": {},
     "execution_count": 14
    }
   ],
   "source": [
    "m_samples, n_samples"
   ]
  },
  {
   "cell_type": "code",
   "execution_count": 15,
   "metadata": {},
   "outputs": [],
   "source": [
    "df_covid_test = covid_samples.sample(n_samples)\n",
    "df_nocovid_test = nocovid_samples.sample(n_samples)"
   ]
  },
  {
   "cell_type": "code",
   "execution_count": 19,
   "metadata": {},
   "outputs": [],
   "source": [
    "df_covid_train = covid_samples.drop(df_covid_test.index)\n",
    "df_nocovid_train = nocovid_samples.drop(df_nocovid_test.index)"
   ]
  },
  {
   "cell_type": "code",
   "execution_count": 20,
   "metadata": {},
   "outputs": [
    {
     "output_type": "execute_result",
     "data": {
      "text/plain": [
       "(256, 110, 256, 110)"
      ]
     },
     "metadata": {},
     "execution_count": 20
    }
   ],
   "source": [
    "len(df_covid_train), len(df_covid_test), len(df_nocovid_train), len(df_nocovid_test)"
   ]
  },
  {
   "cell_type": "code",
   "execution_count": null,
   "metadata": {},
   "outputs": [],
   "source": []
  }
 ]
}