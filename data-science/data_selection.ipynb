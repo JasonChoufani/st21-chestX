{
 "metadata": {
  "language_info": {
   "codemirror_mode": {
    "name": "ipython",
    "version": 3
   },
   "file_extension": ".py",
   "mimetype": "text/x-python",
   "name": "python",
   "nbconvert_exporter": "python",
   "pygments_lexer": "ipython3",
   "version": "3.7.6"
  },
  "orig_nbformat": 2,
  "kernelspec": {
   "name": "python376jvsc74a57bd088b190508439fc978c7325eac78f7323b56c85dfc1d176ae6fe0b89dd9bad32e",
   "display_name": "Python 3.7.6 64-bit ('base': conda)"
  }
 },
 "nbformat": 4,
 "nbformat_minor": 2,
 "cells": [
  {
   "cell_type": "code",
   "execution_count": 64,
   "metadata": {},
   "outputs": [],
   "source": [
    "import pandas as pd"
   ]
  },
  {
   "cell_type": "code",
   "execution_count": 65,
   "metadata": {},
   "outputs": [],
   "source": [
    "df = pd.read_csv('../data/metadata.csv')"
   ]
  },
  {
   "cell_type": "code",
   "execution_count": 78,
   "metadata": {},
   "outputs": [
    {
     "output_type": "execute_result",
     "data": {
      "text/plain": [
       "169"
      ]
     },
     "metadata": {},
     "execution_count": 78
    }
   ],
   "source": [
    "selected_samples = df['view'].value_counts()['PA'] + df['view'].value_counts()['AP'] + df['view'].value_counts()['AP Supine']\n",
    "rejected_samples = df['view'].value_counts().sum() - selected_samples\n",
    "rejected_samples"
   ]
  },
  {
   "cell_type": "code",
   "execution_count": 71,
   "metadata": {},
   "outputs": [
    {
     "output_type": "execute_result",
     "data": {
      "text/plain": [
       "array(['X-ray', 'CT'], dtype=object)"
      ]
     },
     "metadata": {},
     "execution_count": 71
    }
   ],
   "source": [
    "df['modality'].unique()"
   ]
  },
  {
   "cell_type": "code",
   "execution_count": 79,
   "metadata": {},
   "outputs": [],
   "source": [
    "df_PA = df.loc[(df['view']==\"PA\")|(df['view']==\"AP Supine\")|(df['view']==\"AP\")]"
   ]
  },
  {
   "cell_type": "code",
   "execution_count": 80,
   "metadata": {},
   "outputs": [
    {
     "output_type": "execute_result",
     "data": {
      "text/plain": [
       "True"
      ]
     },
     "metadata": {},
     "execution_count": 80
    }
   ],
   "source": [
    "df_PA.shape[0] == selected_samples"
   ]
  },
  {
   "cell_type": "code",
   "execution_count": 85,
   "metadata": {},
   "outputs": [
    {
     "output_type": "execute_result",
     "data": {
      "text/plain": [
       "(781, 30)"
      ]
     },
     "metadata": {},
     "execution_count": 85
    }
   ],
   "source": [
    "df_PA.loc[(df_PA['modality']=='X-ray')].shape"
   ]
  },
  {
   "cell_type": "code",
   "execution_count": 86,
   "metadata": {},
   "outputs": [
    {
     "output_type": "execute_result",
     "data": {
      "text/plain": [
       "array(['X-ray'], dtype=object)"
      ]
     },
     "metadata": {},
     "execution_count": 86
    }
   ],
   "source": [
    "df_PA['modality'].unique()"
   ]
  },
  {
   "source": [
    "## INFO\n",
    "Selected images from \"PA\" & \"AP\" & \"AP Supine\" view are all X-ray images. <br>\n",
    "No further selection by \"modality\" needed. :)"
   ],
   "cell_type": "markdown",
   "metadata": {}
  },
  {
   "cell_type": "code",
   "execution_count": null,
   "metadata": {},
   "outputs": [],
   "source": []
  }
 ]
}